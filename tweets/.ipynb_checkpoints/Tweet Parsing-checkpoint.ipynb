{
 "cells": [
  {
   "cell_type": "code",
   "execution_count": 10,
   "metadata": {},
   "outputs": [],
   "source": [
    "import json\n",
    "import re\n",
    "from pathlib import Path"
   ]
  },
  {
   "cell_type": "markdown",
   "metadata": {
    "heading_collapsed": true
   },
   "source": [
    "## Combine original datasets"
   ]
  },
  {
   "cell_type": "code",
   "execution_count": 2,
   "metadata": {
    "hidden": true
   },
   "outputs": [
    {
     "name": "stdout",
     "output_type": "stream",
     "text": [
      "No. of tweets: 4294\n"
     ]
    }
   ],
   "source": [
    "with open('master_2019.txt', 'r', encoding='utf-8') as f:\n",
    "    data_2019 = f.readlines()\n",
    "    tweets_2019 = [tweet.rstrip('\\n') for tweet in data_2019[1:]]\n",
    "    print(\"No. of tweets:\", len(data_2019))\n",
    "    \n",
    "del data_2019"
   ]
  },
  {
   "cell_type": "code",
   "execution_count": 3,
   "metadata": {
    "hidden": true
   },
   "outputs": [
    {
     "name": "stdout",
     "output_type": "stream",
     "text": [
      "No. of tweets: 2605\n"
     ]
    }
   ],
   "source": [
    "with open('master_2018.json') as f:\n",
    "    data_2018 = json.load(f)\n",
    "    print(\"No. of tweets:\", len(data_2018))\n",
    "    \n",
    "tweets_2018 = []\n",
    "for tweet in reversed(data_2018):\n",
    "    if tweet['retweeted']==False:\n",
    "        try:\n",
    "            tweets_2018.append(tweet['full_text'])\n",
    "        except:\n",
    "            tweets_2018.append(tweet['text'])\n",
    "del data_2018"
   ]
  },
  {
   "cell_type": "code",
   "execution_count": 4,
   "metadata": {
    "hidden": true
   },
   "outputs": [
    {
     "name": "stdout",
     "output_type": "stream",
     "text": [
      "No. of tweets: 2605\n"
     ]
    }
   ],
   "source": [
    "with open('master_2017.json') as f:\n",
    "    data_2017 = json.load(f)\n",
    "    print(\"No. of tweets:\", len(data_2017))\n",
    "    \n",
    "tweets_2017 = []\n",
    "for tweet in reversed(data_2017):\n",
    "    if tweet['retweeted']==False:\n",
    "        try:\n",
    "            tweets_2017.append(tweet['full_text'])\n",
    "        except:\n",
    "            tweets_2017.append(tweet['text'])\n",
    "del data_2017"
   ]
  },
  {
   "cell_type": "code",
   "execution_count": 5,
   "metadata": {
    "hidden": true
   },
   "outputs": [
    {
     "name": "stdout",
     "output_type": "stream",
     "text": [
      "No. of tweets: 4225\n"
     ]
    }
   ],
   "source": [
    "with open('master_2016.json') as f:\n",
    "    data_2016 = json.load(f)\n",
    "    print(\"No. of tweets:\", len(data_2016))\n",
    "    \n",
    "tweets_2016 = []\n",
    "for tweet in reversed(data_2016):\n",
    "    if tweet['retweeted']==False:\n",
    "        try:\n",
    "            tweets_2016.append(tweet['full_text'])\n",
    "        except:\n",
    "            tweets_2016.append(tweet['text'])\n",
    "del data_2016"
   ]
  },
  {
   "cell_type": "code",
   "execution_count": 6,
   "metadata": {
    "hidden": true
   },
   "outputs": [
    {
     "name": "stdout",
     "output_type": "stream",
     "text": [
      "No. of tweets: 7536\n"
     ]
    }
   ],
   "source": [
    "with open('master_2015.json') as f:\n",
    "    data_2015 = json.load(f)\n",
    "    print(\"No. of tweets:\", len(data_2015))\n",
    "    \n",
    "tweets_2015 = []\n",
    "for tweet in reversed(data_2015):\n",
    "    if tweet['retweeted']==False:\n",
    "        try:\n",
    "            tweets_2015.append(tweet['full_text'])\n",
    "        except:\n",
    "            tweets_2015.append(tweet['text'])\n",
    "del data_2015"
   ]
  },
  {
   "cell_type": "code",
   "execution_count": 7,
   "metadata": {
    "hidden": true
   },
   "outputs": [
    {
     "name": "stdout",
     "output_type": "stream",
     "text": [
      "No. of tweets: 5784\n"
     ]
    }
   ],
   "source": [
    "with open('master_2014.json') as f:\n",
    "    data_2014 = json.load(f)\n",
    "    print(\"No. of tweets:\", len(data_2014))\n",
    "    \n",
    "tweets_2014 = []\n",
    "for tweet in reversed(data_2014):\n",
    "    if tweet['retweeted']==False:\n",
    "        try:\n",
    "            tweets_2014.append(tweet['full_text'])\n",
    "        except:\n",
    "            tweets_2014.append(tweet['text'])\n",
    "del data_2014"
   ]
  },
  {
   "cell_type": "code",
   "execution_count": 8,
   "metadata": {
    "hidden": true
   },
   "outputs": [
    {
     "name": "stdout",
     "output_type": "stream",
     "text": [
      "No. of tweets: 8144\n"
     ]
    }
   ],
   "source": [
    "with open('master_2013.json') as f:\n",
    "    data_2013 = json.load(f)\n",
    "    print(\"No. of tweets:\", len(data_2013))\n",
    "    \n",
    "tweets_2013 = []\n",
    "for tweet in reversed(data_2013):\n",
    "    if tweet['retweeted']==False:\n",
    "        try:\n",
    "            tweets_2013.append(tweet['full_text'])\n",
    "        except:\n",
    "            tweets_2013.append(tweet['text'])\n",
    "del data_2013"
   ]
  },
  {
   "cell_type": "code",
   "execution_count": 9,
   "metadata": {
    "hidden": true
   },
   "outputs": [
    {
     "name": "stdout",
     "output_type": "stream",
     "text": [
      "No. of tweets: 3531\n"
     ]
    }
   ],
   "source": [
    "with open('master_2012.json') as f:\n",
    "    data_2012 = json.load(f)\n",
    "    print(\"No. of tweets:\", len(data_2012))\n",
    "    \n",
    "tweets_2012 = []\n",
    "for tweet in reversed(data_2012):\n",
    "    if tweet['retweeted']==False:\n",
    "        try:\n",
    "            tweets_2012.append(tweet['full_text'])\n",
    "        except:\n",
    "            tweets_2012.append(tweet['text'])\n",
    "del data_2012"
   ]
  },
  {
   "cell_type": "code",
   "execution_count": 10,
   "metadata": {
    "hidden": true
   },
   "outputs": [
    {
     "name": "stdout",
     "output_type": "stream",
     "text": [
      "No. of tweets: 774\n"
     ]
    }
   ],
   "source": [
    "with open('master_2011.json') as f:\n",
    "    data_2011 = json.load(f)\n",
    "    print(\"No. of tweets:\", len(data_2011))\n",
    "    \n",
    "tweets_2011 = []\n",
    "for tweet in reversed(data_2011):\n",
    "    if tweet['retweeted']==False:\n",
    "        try:\n",
    "            tweets_2011.append(tweet['full_text'])\n",
    "        except:\n",
    "            tweets_2011.append(tweet['text'])\n",
    "del data_2011"
   ]
  },
  {
   "cell_type": "code",
   "execution_count": 11,
   "metadata": {
    "hidden": true
   },
   "outputs": [
    {
     "name": "stdout",
     "output_type": "stream",
     "text": [
      "No. of tweets: 142\n"
     ]
    }
   ],
   "source": [
    "with open('master_2010.json') as f:\n",
    "    data_2010 = json.load(f)\n",
    "    print(\"No. of tweets:\", len(data_2010))\n",
    "    \n",
    "tweets_2010 = []\n",
    "for tweet in reversed(data_2010):\n",
    "    if tweet['retweeted']==False:\n",
    "        try:\n",
    "            tweets_2010.append(tweet['full_text'])\n",
    "        except:\n",
    "            tweets_2010.append(tweet['text'])\n",
    "del data_2010"
   ]
  },
  {
   "cell_type": "code",
   "execution_count": 12,
   "metadata": {
    "hidden": true
   },
   "outputs": [
    {
     "name": "stdout",
     "output_type": "stream",
     "text": [
      "No. of tweets: 56\n"
     ]
    }
   ],
   "source": [
    "with open('master_2009.json') as f:\n",
    "    data_2009 = json.load(f)\n",
    "    print(\"No. of tweets:\", len(data_2009))\n",
    "    \n",
    "tweets_2009 = []\n",
    "for tweet in reversed(data_2009):\n",
    "    if tweet['retweeted']==False:\n",
    "        try:\n",
    "            tweets_2009.append(tweet['full_text'])\n",
    "        except:\n",
    "            tweets_2009.append(tweet['text'])\n",
    "del data_2009"
   ]
  },
  {
   "cell_type": "code",
   "execution_count": 13,
   "metadata": {
    "hidden": true
   },
   "outputs": [],
   "source": [
    "tweets = tweets_2009 + tweets_2010 + tweets_2011 + tweets_2012 + tweets_2013 + tweets_2014 + tweets_2015 + tweets_2016 + tweets_2017 + tweets_2018 + tweets_2019\n",
    "tweets = [tweet for tweet in tweets if 'RT @' not in tweet]"
   ]
  },
  {
   "cell_type": "code",
   "execution_count": 14,
   "metadata": {
    "hidden": true
   },
   "outputs": [
    {
     "data": {
      "text/plain": [
       "38772"
      ]
     },
     "execution_count": 14,
     "metadata": {},
     "output_type": "execute_result"
    }
   ],
   "source": [
    "with open('tweets.json', 'w') as outfile:\n",
    "    json.dump(tweets, outfile)\n",
    "len(tweets)"
   ]
  },
  {
   "cell_type": "markdown",
   "metadata": {},
   "source": [
    "## Basic parsing"
   ]
  },
  {
   "cell_type": "code",
   "execution_count": 2,
   "metadata": {},
   "outputs": [],
   "source": [
    "with open('tweets.json') as f:\n",
    "    tweets = json.load(f)"
   ]
  },
  {
   "cell_type": "code",
   "execution_count": 4,
   "metadata": {},
   "outputs": [],
   "source": [
    "# Convert &amp to &\n",
    "tweets_2 = []\n",
    "for tweet in tweets:\n",
    "    if '&amp' in tweet:\n",
    "        tweets_2.append(''.join(tweet.split('amp;')))\n",
    "    else:\n",
    "        tweets_2.append(tweet)"
   ]
  },
  {
   "cell_type": "code",
   "execution_count": 5,
   "metadata": {},
   "outputs": [],
   "source": [
    "# convert \\u201 to '\n",
    "tweets_3 = []\n",
    "for tweet in tweets_2:\n",
    "    if '\\\\u2013' in tweet:\n",
    "        tweets_3.append('\\''.join(tweet.split('\\\\u2013')))\n",
    "    if '\\\\u2015' in tweet:\n",
    "        tweets_3.append('\\''.join(tweet.split('\\\\u2015')))\n",
    "    if '\\\\u2018' in tweet:\n",
    "        tweets_3.append('\\''.join(tweet.split('\\\\u2018')))\n",
    "    if '\\\\u2019' in tweet:\n",
    "        tweets_3.append('\\''.join(tweet.split('\\\\u2019')))\n",
    "    else:\n",
    "        tweets_3.append(tweet)"
   ]
  },
  {
   "cell_type": "code",
   "execution_count": 19,
   "metadata": {},
   "outputs": [],
   "source": [
    "# Get rid of URLs\n",
    "tweets_4 = []\n",
    "for tweet in tweets_3:\n",
    "    if 'http' in tweet:\n",
    "        tweets_4.append(''.join(re.split(r'http\\S+\\s', tweet)))\n",
    "    else:\n",
    "        tweets_4.append(tweet)"
   ]
  },
  {
   "cell_type": "code",
   "execution_count": 20,
   "metadata": {},
   "outputs": [
    {
     "data": {
      "text/plain": [
       "5107586"
      ]
     },
     "execution_count": 20,
     "metadata": {},
     "output_type": "execute_result"
    }
   ],
   "source": [
    "tweets_parsed = \"<|endoftext|>\".join(tweets_4)\n",
    "Path(\"tweets.txt\").write_text(tweets_parsed, encoding='utf-8')"
   ]
  },
  {
   "cell_type": "code",
   "execution_count": null,
   "metadata": {},
   "outputs": [],
   "source": []
  }
 ],
 "metadata": {
  "kernelspec": {
   "display_name": "Python 3",
   "language": "python",
   "name": "python3"
  },
  "language_info": {
   "codemirror_mode": {
    "name": "ipython",
    "version": 3
   },
   "file_extension": ".py",
   "mimetype": "text/x-python",
   "name": "python",
   "nbconvert_exporter": "python",
   "pygments_lexer": "ipython3",
   "version": "3.7.3"
  },
  "toc": {
   "base_numbering": 1,
   "nav_menu": {},
   "number_sections": true,
   "sideBar": true,
   "skip_h1_title": false,
   "title_cell": "Table of Contents",
   "title_sidebar": "Contents",
   "toc_cell": false,
   "toc_position": {},
   "toc_section_display": true,
   "toc_window_display": false
  }
 },
 "nbformat": 4,
 "nbformat_minor": 2
}
